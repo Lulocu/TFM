{
 "cells": [
  {
   "cell_type": "code",
   "execution_count": 41,
   "metadata": {},
   "outputs": [],
   "source": [
    "import json\n",
    "from datetime import datetime\n"
   ]
  },
  {
   "cell_type": "code",
   "execution_count": 29,
   "metadata": {},
   "outputs": [],
   "source": [
    "post_file = open('Post.json')\n",
    "comments_file = open('Comments.json')\n",
    "#imagesf_file = open('Images.files.json')\n",
    "posts = json.load(post_file)\n",
    "\n",
    "comments = json.load(comments_file)\n",
    "\n",
    "#imagesf = json.load(imagesf_file)"
   ]
  },
  {
   "attachments": {},
   "cell_type": "markdown",
   "metadata": {},
   "source": [
    "Estadísticas de las publicaciones"
   ]
  },
  {
   "cell_type": "code",
   "execution_count": null,
   "metadata": {},
   "outputs": [
    {
     "name": "stdout",
     "output_type": "stream",
     "text": [
      "[0, 1, 0, 0, 0, 0, 0, 0, 0, 0]\n"
     ]
    }
   ],
   "source": [
    "a = [0]*10\n",
    "a[1] += 1\n",
    "print(a)"
   ]
  },
  {
   "cell_type": "code",
   "execution_count": 47,
   "metadata": {},
   "outputs": [
    {
     "name": "stdout",
     "output_type": "stream",
     "text": [
      "Number of posts: 4797\n",
      "Number of comments: 17366\n",
      "Number of sponsors: 0\n",
      "Number of locations: 2\n",
      "Number of hashtaghs: 4069\n",
      "Number of mentions: 547\n",
      "Number of users mentioned: 1173\n",
      "Number of publishers: 746\n",
      "\n",
      "\n",
      "Number max of likes in a post: 7675\n",
      "Number max of comentarios in a post: 638\n",
      "Number max of interacciones in a post: 8095\n",
      "Number max of hashtaghs in a post: 38\n",
      "Number max of mentions in a post: 24\n",
      "\n",
      "\n",
      "\n",
      "\n",
      "Mean of likes in a post: 60.91807379612258\n",
      "Mean of comentarios in a post: 3.620179278715864\n",
      "Mean of interacciones in a post: 64.53825307483844\n",
      "Mean of hashtaghs in a post: 23.19804044194288\n",
      "Mean of mentions in a post: 0.24452782989368355\n",
      "\n",
      "\n",
      "Mean of publications for publisher: 23.19804044194288\n"
     ]
    }
   ],
   "source": [
    "n_likes = 0\n",
    "n_comments = 0\n",
    "\n",
    "max_likes = -1\n",
    "max_comments = -1\n",
    "max_interactions = -1\n",
    "max_hashtaghs = -1\n",
    "max_mentions = -1\n",
    "sponsor_p = 0\n",
    "distribucion_img = [0]*11\n",
    "locations = {}\n",
    "fechas = {}\n",
    "hashtags = {}\n",
    "mentions = {}\n",
    "cuentas  = {}\n",
    "for post in posts:\n",
    "    max_likes = max(max_likes, post['likes'])\n",
    "    max_comments = max(max_comments, post['n_comments'])\n",
    "    max_interactions = max(max_interactions, post['likes'] + post['n_comments'])\n",
    "    max_hashtaghs = max(max_hashtaghs, len(post['caption_hashtags']))\n",
    "    max_mentions = max(max_mentions, len(post['caption_mentions']))\n",
    "\n",
    "    #try:\n",
    "    #    distribucion_img[len(post['images'])] += 1\n",
    "    #except:\n",
    "    #    print(f'Post con {len(post[\"images\"])} imagenes')\n",
    "    #    print(f'URL: {post[\"url\"]}')\n",
    "    sponsor_p += len(post['sponsor_users'])\n",
    "    locations[post['location']] = locations.get(post['location'], 0) + 1\n",
    "\n",
    "    date = datetime.strptime(post['date'].split(\"T\")[0], \"%Y-%m-%d\")\n",
    "    fechas[date] = fechas.get(date, 0) + 1\n",
    "\n",
    "    for hash in post['caption_hashtags']:\n",
    "        hashtags[hash] = hashtags.get(hash, 0) + 1\n",
    "\n",
    "    for mention in post['caption_mentions']:\n",
    "        mentions[mention] = mentions.get(mention, 0) + 1\n",
    "    #for profile in post['profile']:\n",
    "    cuentas[post['profile']] = cuentas.get(post['profile'], 0) + 1\n",
    "\n",
    "    n_comments += post['n_comments']\n",
    "    n_likes += post['likes']\n",
    "\n",
    "\n",
    "n_hashtags = sum(hashtags.values())\n",
    "n_mentions = sum(mentions.values())\n",
    "n_cuentas = sum(cuentas.values())\n",
    "\n",
    "print(f\"Number of posts: {len(posts)}\")\n",
    "print(f\"Number of comments: {n_comments}\")\n",
    "print(f\"Number of sponsors: {sponsor_p}\")\n",
    "print(f\"Number of locations: {len(locations)}\")\n",
    "print(f\"Number of hashtaghs: {len(hashtags)}\")\n",
    "print(f\"Number of mentions: {len(mentions)}\")\n",
    "print(f\"Number of users mentioned: {n_mentions}\")\n",
    "\n",
    "print(f\"Number of publishers: {len(cuentas)}\")\n",
    "print('\\n')\n",
    "print(f\"Number max of likes in a post: {max_likes}\")\n",
    "print(f\"Number max of comentarios in a post: {max_comments}\")\n",
    "print(f\"Number max of interacciones in a post: {max_interactions}\")\n",
    "print(f\"Number max of hashtaghs in a post: {max_hashtaghs}\")\n",
    "print(f\"Number max of mentions in a post: {max_mentions}\")\n",
    "print('\\n')\n",
    "#print(f\"Distribution numer of images: {distribucion_img}\")\n",
    "print('\\n')\n",
    "print(f\"Mean of likes in a post: {n_likes/len(posts)}\")\n",
    "print(f\"Mean of comentarios in a post: {n_comments/len(posts)}\")\n",
    "print(f\"Mean of interacciones in a post: {(n_likes + n_comments)/len(posts)}\")\n",
    "print(f\"Mean of hashtaghs in a post: {n_hashtags/len(posts)}\")\n",
    "print(f\"Mean of mentions in a post: {n_mentions/len(posts)}\")\n",
    "print('\\n')\n",
    "print(f\"Mean of publications for publisher: {n_hashtags/n_cuentas}\")"
   ]
  },
  {
   "cell_type": "code",
   "execution_count": 48,
   "metadata": {},
   "outputs": [],
   "source": [
    "def mas_repe(dicc, n = 10):\n",
    "    sorted_dict = sorted(dicc.items(), key=lambda x: x[1], reverse=True)\n",
    "\n",
    "    highest_keys = [k for k, v in sorted_dict[:n]]\n",
    "    highest_values = [v for k, v in sorted_dict[:n]]\n",
    "    print(highest_keys)\n",
    "    print(highest_values)"
   ]
  },
  {
   "cell_type": "code",
   "execution_count": 49,
   "metadata": {},
   "outputs": [
    {
     "name": "stdout",
     "output_type": "stream",
     "text": [
      "['providaforever', 'en.contra.del.aborto', 'provida.mundial', 'familiaprovida', 'catolica_espiritualidad', 'providas.chile', 'provida.chile', 'providafamiliar', 'zorroantiaborto', 'elobservadorperu']\n",
      "[287, 286, 285, 284, 224, 214, 211, 147, 130, 125]\n",
      "Cuentas con mas posts y nº None\n",
      "['noalaborto', 'provida', 'soyprovida', 'providamundial', 'follow', 'noalabortosialavida', 'sialavida', 'salvemoslas2vidas', 'niunbebemenos', 'quintanaroo']\n",
      "[5890, 2809, 2151, 1990, 1968, 1542, 1525, 1427, 1317, 1315]\n",
      "Hashtags mas usados y nº None\n",
      "['pasionvidamin', 'respectlifemiami', 'gabrielboric', 'radiopaz830am', 'lavida_no_se_debate_sedefiende', 'corazonesprovida', 'abortonuncamais', 'st.bonifacechurch', 'salvemos.las2vidas', 'americaprovida']\n",
      "[30, 27, 16, 16, 15, 15, 14, 14, 13, 12]\n",
      "Cuentas con mas menciones y nº None\n",
      "[datetime.datetime(2022, 12, 27, 0, 0), datetime.datetime(2022, 12, 28, 0, 0), datetime.datetime(2023, 3, 25, 0, 0), datetime.datetime(2022, 12, 24, 0, 0), datetime.datetime(2023, 2, 2, 0, 0), datetime.datetime(2022, 12, 29, 0, 0), datetime.datetime(2023, 3, 8, 0, 0), datetime.datetime(2023, 2, 8, 0, 0), datetime.datetime(2023, 1, 26, 0, 0), datetime.datetime(2022, 12, 26, 0, 0)]\n",
      "[394, 235, 90, 63, 62, 61, 47, 45, 45, 44]\n",
      "Dias con mas post y nº None\n",
      "Lowest Date: 2020-06-16\n",
      "Highest Date: 2023-05-30\n"
     ]
    }
   ],
   "source": [
    "print(f'Cuentas con mas posts y nº {mas_repe(cuentas)}')\n",
    "print(f'Hashtags mas usados y nº {mas_repe(hashtags)}')\n",
    "print(f'Cuentas con mas menciones y nº {mas_repe(mentions)}')\n",
    "print(f'Dias con mas post y nº {mas_repe(fechas)}')\n",
    "\n",
    "sorted_dates = sorted(fechas.keys())\n",
    "lowest_date = sorted_dates[0].strftime(\"%Y-%m-%d\")\n",
    "highest_date = sorted_dates[-1].strftime(\"%Y-%m-%d\")\n",
    "print(f\"Lowest Date: {lowest_date}\")\n",
    "print(f\"Highest Date: {highest_date}\")"
   ]
  },
  {
   "cell_type": "code",
   "execution_count": 54,
   "metadata": {},
   "outputs": [
    {
     "name": "stdout",
     "output_type": "stream",
     "text": [
      "(8095, 'Me encantó este videito que te comparto ! Ojalá que ayude a tomar conciencia de lo que se está promoviendo desgraciadamente en varios lugares del mundo… Aquí te dejo este testimonio en primera persona. Cuidemos y protejamos la vida de todos ! Comparte este mensaje! Bendiciones! @padreadolfo\\n.\\n.\\n.\\n.\\n.\\n.\\n.\\n.\\n.\\n.\\n#vida #vidahumana #noalaborto #noalabortosialavida #down #downsyndrome #sindromededown')\n",
      "(5576, 'De coherencia no se van a morir…\\nTampoco de inteligencia.\\n\\nPero en fin, los leo\\n\\nCompártelo (y etiquétame para irte a comentar por tu lado también 😎) \\n\\n.\\n.\\n.\\n#LobbyPolitico #PorDetras\\n#Lobby\\n#NoAlAborto\\n#ProVida\\n#Trans\\n\\n#ConLosNiñosNo\\n#Balenciaga \\n#Trans\\n#Transgenero\\n#Biologia \\n#LeyTrans \\n#IreneMontero\\n#Igualdad\\n#EnLasCompetenciasFemeninasNo \\n#LGTBQRSTUWXYZ \\n#LGTBQ \\n#Mujeres \\n#Mujer\\n#Amigues \\n#Feministas \\nEl #Patriarcado y la cosa ?\\n#agenda2030 \\n#NiConRojosNiConAzules \\n#FueraElSocialismoDeVenezuela\\n#Venezuela \\n@LauraDeRosaMart \\n#LauraDeRosaMart \\n#LauraDeRosa #LDR')\n",
      "(5536, '28 de diciembre: LOS SANTOS INOCENTES (mártires)\\n\\nLos niños Inocentes murieron por Cristo, fueron arrancados del pecho de su madre para ser asesinados: ahora siguen al Cordero sin mancha, cantando: «Gloria a ti, Señor.» (Antífona del Cántico Evangélico de Laudes)\\n\\nAyer Herodes, que arremetió contra los más pequeños por miedo a perder todo su poder y riqueza a manos de un rey que solo vino a reinar en los corazones. Hoy nuestros legisladores y hermanos de este suelo patrio y de todo el mundo que por miedo a perder su estado de bienestar votan leyes que inventan el derecho a terminar con la vida de los más pequeños e indefensos. Ellos ya gozan en la Gloria de Dios, nosotros roguemos que Él tenga misericordia de aquellas almas que perdieron el camino y han abogado a favor de esta causa y contribuyen directamente a estas muertes.\\n\\n#jesus #niñojesus #babyjesus #meninojesus #gesubambino\\n#santosinocentes\\n#holyinnocents\\n#santosmartires\\n#holymartyrs\\n#martires #martyrs #noalaborto #sialavida #salvemoslas2vidas\\n #iglesiacatolica #dibujo #drawing #ilustracion #illustration #arte #art #ilustraciondigital #digitalillustration #artedigital #digitalart #artereligioso #religiousart')\n",
      "(4270, '\"Madre de los niños que no han nacido, ruega por nosotros\".\\n.\\n Señor Jesús: por mediación de María, Tu Madre, que te dio a luz con amor, y por intercesión de San José, quien contempló extasiado el Misterio de la Encarnación y se ocupó de Ti tras tu nacimiento, te pido por este pequeño no nacido y que se encuentra en peligro de ser abortado. Te pido que des a los padres de este bebé amor y valor para que le permitan vivir la vida que Tú mismo le has preparado. Amén.\\n.\\n Bendito seas, Señor, por este nuevo día. Te alabo por el don de la vida. Al despertar del sueño, te pido especialmente por aquellos que serán trágicamente privados de la vida porque serán abortados. Recíbelos, Señor. Y en tu gran misericordia, guía con tu sabiduría a todas las mujeres embarazas que estén pensando hoy en destruir a los niños que llevan en su seno. Dales la gracia, el valor y la fortaleza para vivir diariamente según tu voluntad. Te lo pido por Cristo, Nuestro Señor, Amén.\\n.\\n#rezarhoy #jovenescatolicos #santosinocentes #noalaborto #sialavida #amordeDios #vivirlafe #oracion #testimonios #reflexiones #amistadconjesucristo #fe #alegria #cristianos #givenfaith')\n",
      "(3057, 'Mensaje de la Santísima Virgen María 🌹\\n\\n(Vidente de la Virgen María)\\nRezo por todos los seres del mundo. En el cuarto misterio del Santo Rosario la veo, está sola. El último Gloria lo reza conmigo.\\nEstá muy triste, tiene las manos juntas y cuando reza el Gloria inclina como siempre su cabeza.\\nDespués que termino de rezar me habla. Me dice:\\n\\n“Gladys, ora también por las criaturas que no nacen, que no alcanzan a ver la luz del día.\\n¡Son tantos los abortos, son tantos los atentados a las vidas que sólo a Dios pertenecen!\\nDios tiene la vida y Dios llama a la vida, sólo Dios.\\nBendito sea el Señor”.\\n\\nAmén 🙏🏼\\n\\n~~\\nMensaje de la Santísima Virgen María del Rosario de San Nicolás. Argentina 7/3/87 Msje. # 1119\\n✨El 25/09/83 fue la primera aparición de nuestra Santísima Virgen María a la vidente Gladys Motta. \\n🌹Te amamos, honramos, veneramos y te agradecemos Santísima Virgen María! Ruega por nosotros🙏🏼🌹❤️\\n✝️Jesús en ti confío. Que se haga tu Divina Voluntad y no la mía.\\nSea bendito el Señor y todo sea para su Gloria y Honor!🙏🏼\\n\\n~~\\n#virgenmaria#virginmary#dios \\n#diosesvida#vida#life#juventud \\n#juventude#abrirlosojos#deus \\n#openyoureyes#youth#juventude \\n#mandamientos#cristo#prayforlife \\n#bastadematar#piedad#mercy \\n#sialavida#misericordia#stopkilling \\n#noalaborto #nomatarás#jesucristo✝ \\n#pecadomortal#jovenescatolicos \\n#diosesamor#diosesvida#amar')\n"
     ]
    }
   ],
   "source": [
    "sorted_data = sorted(posts, key=lambda x: x['n_comments'] + x['likes'], reverse=True)\n",
    "n = 5  # Number of texts to retrieve\n",
    "highest_texts = [(d['n_comments'] + d['likes'],d['caption']) for d in sorted_data[:n]]\n",
    "\n",
    "for i in highest_texts:\n",
    "    print(i)\n",
    "#print(highest_texts)"
   ]
  },
  {
   "cell_type": "code",
   "execution_count": null,
   "metadata": {},
   "outputs": [],
   "source": [
    "#Número de posts\n",
    "#Número de comentarios\n",
    "#Número de likes\n",
    "#Número de interacciones\n",
    "#Número de hashtags\n",
    "\n",
    "#Medias\n",
    "#comentarios\n",
    "#likes\n",
    "#interacciones\n",
    "#hashtags\n",
    "#post por cuenta\n",
    "\n",
    "\n",
    "#Hashtags más usados\n",
    "#Numero de posts por semana\n",
    "#Hora de subida\n",
    "#Localizaciones indicadas\n",
    "#Número de menciones\n",
    "#ENtidades mencionadas\n",
    "#Enlaces\n",
    "#Emojis más usados\n",
    "#Cuentas con más copmentarios\n",
    "\n",
    "#Mirar nº videos y reels\n",
    "#POrcentaje con caption de accesibilidad\n",
    "#Número de palabras medias por comentarios\n",
    "#Palabras mas frecuentes en comentarios\n",
    "#Palabras mas frecuentes en postsq\n",
    "#Conspiranoiais detectadas\n",
    "\n",
    "#Dentro de los top10 publicadores su numero de seguidores y de seguidos y en comun entre los 10 y si puedo entre 5"
   ]
  }
 ],
 "metadata": {
  "kernelspec": {
   "display_name": ".venv",
   "language": "python",
   "name": "python3"
  },
  "language_info": {
   "codemirror_mode": {
    "name": "ipython",
    "version": 3
   },
   "file_extension": ".py",
   "mimetype": "text/x-python",
   "name": "python",
   "nbconvert_exporter": "python",
   "pygments_lexer": "ipython3",
   "version": "3.10.6"
  },
  "orig_nbformat": 4
 },
 "nbformat": 4,
 "nbformat_minor": 2
}
