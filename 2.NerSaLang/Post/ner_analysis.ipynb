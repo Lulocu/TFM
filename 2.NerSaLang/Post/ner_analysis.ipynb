{
 "cells": [
  {
   "cell_type": "code",
   "execution_count": 2,
   "metadata": {},
   "outputs": [],
   "source": [
    "from json import loads\n",
    "from collections import Counter\n",
    "import matplotlib.pyplot as plt\n"
   ]
  },
  {
   "cell_type": "code",
   "execution_count": 3,
   "metadata": {},
   "outputs": [],
   "source": [
    "POST_PATH = \"Post_Analysis.json\""
   ]
  },
  {
   "cell_type": "code",
   "execution_count": 4,
   "metadata": {},
   "outputs": [],
   "source": [
    "ner = []\n",
    "per = []\n",
    "org = []\n",
    "misc = []\n",
    "loc = []\n",
    "with open(POST_PATH, 'r') as post_file:\n",
    "    for line in post_file:\n",
    "        post = loads(line)\n",
    "\n",
    "        for l in post[\"ner\"].keys():\n",
    "            if l == \"PER\":\n",
    "                ner = ner + post[\"ner\"][l]\n",
    "                per = per + post[\"ner\"][l]\n",
    "            elif l == \"ORG\":\n",
    "                ner = ner + post[\"ner\"][l]\n",
    "                org = org + post[\"ner\"][l]\n",
    "            elif l == \"MISC\":\n",
    "                ner = ner + post[\"ner\"][l]\n",
    "                misc = misc + post[\"ner\"][l]\n",
    "            elif l == \"LOC\":\n",
    "                ner = ner + post[\"ner\"][l]\n",
    "                loc = loc + post[\"ner\"][l]\n",
    "            else:\n",
    "                print(l)\n"
   ]
  },
  {
   "cell_type": "markdown",
   "metadata": {},
   "source": [
    "# Ner\n"
   ]
  },
  {
   "cell_type": "code",
   "execution_count": 5,
   "metadata": {},
   "outputs": [
    {
     "name": "stdout",
     "output_type": "stream",
     "text": [
      "7377\n",
      "1514\n",
      "1067\n",
      "3611\n",
      "1435\n"
     ]
    }
   ],
   "source": [
    "print(len(set(ner)))\n",
    "print(len(set(per)))\n",
    "print(len(set(org)))\n",
    "print(len(set(misc)))\n",
    "print(len(set(loc)))\n"
   ]
  },
  {
   "cell_type": "code",
   "execution_count": 6,
   "metadata": {},
   "outputs": [
    {
     "name": "stdout",
     "output_type": "stream",
     "text": [
      "{'Redentor', 'Noviazgo', 'México.', 'Ti', 'Ellos', 'Misoprostol', 'Ven', 'Adán', 'Aprovecho', 'Amén', 'Aborto', 'Matrimonio', 'Tristeza', 'Cuaresma', 'Obispo', 'andan', 'Madre', 'Huancayo', '🇻', 'Recuerda', 'Santísima Virgen María', 'Mañana', 'Mifegymiso', 'San Cristóbal', 'San José', 'Síndrome de Down', 'Cafarnaún', 'Juan', 'Bolsonaro', 'Evangelios', 'Coronilla', 'Conéctate', 'Trump', 'Derechos Humanos', 'Domingo', 'Gutiérrez', 'Spei Mater', 'Padre', 'Junio', 'Bebé', 'Celebramos', 'Down', 'Santiago', 'Quién', 'Mamá', 'Dr', 'Cristóbal Urruticoechea', 'Él', 'Maestro', 'Hermanos', 'Hch', 'Ciencias Políticas', 'Ahome', 'Espíritu Santo', 'Mujer', 'América Rangel', 'San Juan Pablo II', 'Justicia', 'Ayúdales', 'Ave María', 'Señor', 'Angelus', 'Llamamos', 'Quienes', 'Seguiremos', 'Imágenes', 'Levántate', 'Choices', 'Santa Isabel', 'Sabías', 'Santiago el Menor', 'Aquel', 'Trujillo', 'Nuestro Redentor', 'Preocupada', 'Creador', 'Cuál', 'Ferrosur', 'Mat', 'Mira', 'Contáctanos', 'Sigamos', 'Nuestra', 'Creemos', 'Julio', 'Dra', 'Contamos', 'Jajajaja', 'Sangre', 'Tú', 'Morena', 'Arte Barroco', 'Medellin', '@_s3b4_p3l1', 'Vida', 'Biología', 'Escuela', 'Santo', 'Somos', 'Fuente'}\n"
     ]
    }
   ],
   "source": [
    "common_elements = set(per).intersection(set(loc))\n",
    "print(common_elements)"
   ]
  },
  {
   "cell_type": "code",
   "execution_count": 7,
   "metadata": {},
   "outputs": [
    {
     "name": "stdout",
     "output_type": "stream",
     "text": [
      "40208\n",
      "5256\n",
      "3445\n",
      "20315\n",
      "11192\n"
     ]
    }
   ],
   "source": [
    "print(len(ner))\n",
    "print(len(per))\n",
    "print(len(org))\n",
    "print(len(misc))\n",
    "print(len(loc))\n"
   ]
  },
  {
   "cell_type": "code",
   "execution_count": 4,
   "metadata": {},
   "outputs": [],
   "source": [
    "ner_count = Counter(ner)\n",
    "per_count = Counter(per)\n",
    "org_count = Counter(org)\n",
    "misc_count = Counter(misc)\n",
    "loc_count = Counter(loc)"
   ]
  },
  {
   "cell_type": "code",
   "execution_count": 5,
   "metadata": {},
   "outputs": [
    {
     "name": "stdout",
     "output_type": "stream",
     "text": [
      "QuintanaRoo: 1209\n",
      "NoalAborto #: 957\n",
      "Venezuela: 937\n",
      "Colombia: 936\n",
      "Argentina: 933\n",
      "Brasil: 908\n",
      "Mexico: 903\n",
      "Nicaragua: 902\n",
      "SiALaVidaQRoo #: 899\n",
      "BajaCaliforniaSur: 899\n"
     ]
    }
   ],
   "source": [
    "for pol, count in ner_count.most_common(10):\n",
    "    print(f\"{pol}: {count}\")"
   ]
  },
  {
   "cell_type": "code",
   "execution_count": 6,
   "metadata": {},
   "outputs": [
    {
     "name": "stdout",
     "output_type": "stream",
     "text": [
      "Cristo: 432\n",
      "Jesús: 406\n",
      "Jesus: 270\n",
      "Jesucristo: 254\n",
      "Noalaborto: 207\n",
      "jesus: 173\n",
      "Señor: 115\n",
      "María: 73\n",
      "Padre: 72\n",
      "Abortonuncamas: 62\n"
     ]
    }
   ],
   "source": [
    "for pol, count in per_count.most_common(10):\n",
    "    print(f\"{pol}: {count}\")"
   ]
  },
  {
   "cell_type": "code",
   "execution_count": 7,
   "metadata": {},
   "outputs": [
    {
     "name": "stdout",
     "output_type": "stream",
     "text": [
      "NoAlAborto: 746\n",
      "FueraCastillo: 203\n",
      "RafaelLopezAliaga: 99\n",
      "Iglesia: 55\n",
      "VIDA: 45\n",
      "NadieMenos: 40\n",
      "SI SI SI A LA: 38\n",
      "ProyectoAngel: 33\n",
      "ABORTO: 32\n",
      "IglesiaCatolica: 30\n"
     ]
    }
   ],
   "source": [
    "for pol, count in org_count.most_common(10):\n",
    "    print(f\"{pol}: {count}\")"
   ]
  },
  {
   "cell_type": "code",
   "execution_count": 17,
   "metadata": {},
   "outputs": [
    {
     "name": "stdout",
     "output_type": "stream",
     "text": [
      "QuintanaRoo: 1209\n",
      "NoalAborto #: 957\n",
      "SiALaVidaQRoo #: 899\n",
      "BajaCaliforniaSur: 899\n",
      "Follow #: 877\n",
      "Dios: 822\n",
      "nofueley #feminazi #: 520\n",
      "️: 510\n",
      "RenovacionPopular: 377\n",
      "NoalComunismo #: 375\n",
      "NuevoOrdenMundial #Noalnuevoordenmundial: 368\n"
     ]
    }
   ],
   "source": [
    "for pol, count in misc_count.most_common(11):\n",
    "    print(f\"{pol}: {count}\")"
   ]
  },
  {
   "cell_type": "code",
   "execution_count": 9,
   "metadata": {},
   "outputs": [
    {
     "name": "stdout",
     "output_type": "stream",
     "text": [
      "Venezuela: 937\n",
      "Colombia: 936\n",
      "Argentina: 933\n",
      "Brasil: 908\n",
      "Mexico: 903\n",
      "Nicaragua: 902\n",
      "Perú: 401\n",
      "Peru: 387\n",
      "VacanciaPedroCastillo: 279\n",
      "mexico: 234\n"
     ]
    }
   ],
   "source": [
    "for pol, count in loc_count.most_common(10):\n",
    "    print(f\"{pol}: {count}\")"
   ]
  },
  {
   "cell_type": "markdown",
   "metadata": {},
   "source": [
    "# PIECHARTs con %"
   ]
  },
  {
   "cell_type": "code",
   "execution_count": 7,
   "metadata": {},
   "outputs": [
    {
     "ename": "NameError",
     "evalue": "name 'ner_count' is not defined",
     "output_type": "error",
     "traceback": [
      "\u001b[0;31m---------------------------------------------------------------------------\u001b[0m",
      "\u001b[0;31mNameError\u001b[0m                                 Traceback (most recent call last)",
      "\u001b[1;32m/home/luis/Documents/TFM/2.NerSaLang/ner_analysis.ipynb Cell 15\u001b[0m line \u001b[0;36m1\n\u001b[0;32m----> <a href='vscode-notebook-cell:/home/luis/Documents/TFM/2.NerSaLang/ner_analysis.ipynb#X20sZmlsZQ%3D%3D?line=0'>1</a>\u001b[0m ner_count\u001b[39m.\u001b[39mkeys()\n",
      "\u001b[0;31mNameError\u001b[0m: name 'ner_count' is not defined"
     ]
    }
   ],
   "source": [
    "ner_count.keys()"
   ]
  },
  {
   "cell_type": "code",
   "execution_count": 12,
   "metadata": {},
   "outputs": [
    {
     "data": {
      "image/png": "[encoded data removed]",
      "text/plain": [
       "<Figure size 1300x800 with 1 Axes>"
      ]
     },
     "metadata": {},
     "output_type": "display_data"
    }
   ],
   "source": [
    "labels = [\"Persons\", \"Miscellany\", \"Locations\", \"Oganizations\"]#ner_count.keys()\n",
    "counts = [len(per), len(misc), len(loc), len(org)]#ner_count.values()\n",
    "colors = ['lightcoral', 'lightgreen', 'cornflowerblue', 'plum'] \n",
    "\n",
    "# Create the pie chart\n",
    "plt.figure(figsize=(13, 8))\n",
    "plt.pie(counts, autopct='%1.1f%%', startangle=140, colors=colors)\n",
    "plt.title(\"Distribution of named entity categories\",fontsize=18)\n",
    "plt.axis('equal')  # Equal aspect ratio ensures the pie chart is circular.\n",
    "plt.legend(labels, title=\"Polarity\", loc=\"upper left\",fontsize=16)\n",
    "# Display the pie chart\n",
    "plt.show()\n"
   ]
  },
  {
   "cell_type": "code",
   "execution_count": null,
   "metadata": {},
   "outputs": [],
   "source": []
  }
 ],
 "metadata": {
  "kernelspec": {
   "display_name": ".venv",
   "language": "python",
   "name": "python3"
  },
  "language_info": {
   "codemirror_mode": {
    "name": "ipython",
    "version": 3
   },
   "file_extension": ".py",
   "mimetype": "text/x-python",
   "name": "python",
   "nbconvert_exporter": "python",
   "pygments_lexer": "ipython3",
   "version": "3.10.12"
  },
  "orig_nbformat": 4
 },
 "nbformat": 4,
 "nbformat_minor": 2
}
