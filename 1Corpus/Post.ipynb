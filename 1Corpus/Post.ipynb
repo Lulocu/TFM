{
 "cells": [
  {
   "cell_type": "code",
   "execution_count": 1,
   "metadata": {},
   "outputs": [],
   "source": [
    "from collections import Counter\n",
    "from datetime import datetime\n",
    "import statistics as sts\n",
    "import json"
   ]
  },
  {
   "cell_type": "code",
   "execution_count": 2,
   "metadata": {},
   "outputs": [],
   "source": [
    "POSTS_PATH = \"DatasetFinal/Posts.json\""
   ]
  },
  {
   "attachments": {},
   "cell_type": "markdown",
   "metadata": {},
   "source": [
    "Estadísticas de las publicaciones"
   ]
  },
  {
   "cell_type": "code",
   "execution_count": 4,
   "metadata": {},
   "outputs": [],
   "source": [
    "n_likes = []\n",
    "n_comments = []\n",
    "n_interactions = []\n",
    "n_hashtags = []\n",
    "n_mentions = []\n",
    "\n",
    "sponsor_p = []\n",
    "distribucion_img = [0]*11\n",
    "\n",
    "locations = []\n",
    "dates = []\n",
    "hashtags = []\n",
    "mentions = []\n",
    "profiles  = []"
   ]
  },
  {
   "cell_type": "code",
   "execution_count": 8,
   "metadata": {},
   "outputs": [],
   "source": [
    "with open(POSTS_PATH, 'r') as input_file:\n",
    "\n",
    "    for line in input_file:\n",
    "        post = json.loads(line)\n",
    "        n_comments.append(post['n_comments'])\n",
    "        n_likes.append(post['likes'])\n",
    "        n_interactions.append(post['n_comments'] + post['likes'])\n",
    "        profiles.append(post['profile'])\n",
    "\n",
    "        sponsor_p.append(post['sponsor_users'])\n",
    "        locations.append(post['location'])\n",
    "\n",
    "        post_date = datetime.strptime(post['date'].split(\"T\")[0], \"%Y-%m-%d\")\n",
    "        dates.append(post_date)\n",
    "\n",
    "        for hash in post['caption_hashtags']:\n",
    "            hashtags.append(hash)\n",
    "        n_hashtags.append(len(post['caption_hashtags']))\n",
    "\n",
    "        for mention in post['caption_mentions']:\n",
    "            mentions.append(mention)\n",
    "        n_mentions.append(len(post['caption_mentions']))\n"
   ]
  },
  {
   "cell_type": "code",
   "execution_count": 9,
   "metadata": {},
   "outputs": [
    {
     "name": "stdout",
     "output_type": "stream",
     "text": [
      "Number of posts: 5865\n",
      "Number of comments: 22775\n",
      "Number of likes: 397944\n",
      "Number of interactions: 420719\n",
      "Number of locations: 2\n",
      "Number of hashtags: 5681\n",
      "Number of publisher accounts: 955\n",
      "Number of mentioned accounts: 784\n",
      "Number of total mentions: 1617\n"
     ]
    }
   ],
   "source": [
    "print(f\"Number of posts: {len(n_comments)}\")\n",
    "print(f\"Number of comments: {sum(n_comments)}\")\n",
    "print(f\"Number of likes: {sum(n_likes)}\")\n",
    "print(f\"Number of interactions: {sum(n_interactions)}\")\n",
    "\n",
    "print(f\"Number of locations: {len(set(locations))}\")\n",
    "print(f\"Number of hashtags: {len(set(hashtags))}\")\n",
    "print(f\"Number of publisher accounts: {len(set(profiles))}\")\n",
    "print(f\"Number of mentioned accounts: {len(set(mentions))}\")\n",
    "\n",
    "print(f\"Number of total mentions: {len(mentions)}\")"
   ]
  },
  {
   "cell_type": "code",
   "execution_count": 10,
   "metadata": {},
   "outputs": [
    {
     "name": "stdout",
     "output_type": "stream",
     "text": [
      "Maximum number of likes on a post: 7675\n",
      "Maximum number of comments on a post: 638\n",
      "Maximum number of interactions on a post: 8095\n",
      "Maximum number of hashtaghs on a post: 38\n",
      "Maximum number of mentions on a post: 24\n"
     ]
    }
   ],
   "source": [
    "print(f\"Maximum number of likes on a post: {max(n_likes)}\")\n",
    "print(f\"Maximum number of comments on a post: {max(n_comments)}\")\n",
    "print(f\"Maximum number of interactions on a post: {max(n_interactions)}\")\n",
    "print(f\"Maximum number of hashtaghs on a post: {max(n_hashtags)}\")\n",
    "print(f\"Maximum number of mentions on a post: {max(n_mentions)}\")"
   ]
  },
  {
   "cell_type": "code",
   "execution_count": 11,
   "metadata": {},
   "outputs": [
    {
     "name": "stdout",
     "output_type": "stream",
     "text": [
      "Average number of likes on a post: 67.85063938618926 +- 244.8094970165279\n",
      "Average number of comments on a post: 3.8832054560954816 +- 21.595511839407116\n",
      "Average number of interactions on a post: 71.73384484228474         +- 258.3906574235189\n",
      "Average number of hashtaghs on a post: 21.827109974424552 +- 11.349545861139296\n",
      "Average number of mentions on a post: 0.27570332480818416 +- 1.3420212736286854\n"
     ]
    }
   ],
   "source": [
    "n_post = len(n_comments)\n",
    "\n",
    "print(f\"Average number of likes on a post: {sts.mean(n_likes)} +- {sts.stdev(n_likes)}\")\n",
    "print(f\"Average number of comments on a post: {sts.mean(n_comments)} +- {sts.stdev(n_comments)}\")\n",
    "print(f\"Average number of interactions on a post: {sts.mean(n_interactions)} \\\n",
    "        +- {sts.stdev(n_interactions)}\")\n",
    "print(f\"Average number of hashtaghs on a post: {sts.mean(n_hashtags)} +- {sts.stdev(n_hashtags)}\")\n",
    "print(f\"Average number of mentions on a post: {sts.mean(n_mentions)} +- {sts.stdev(n_mentions)}\")\n"
   ]
  },
  {
   "cell_type": "code",
   "execution_count": 12,
   "metadata": {},
   "outputs": [
    {
     "name": "stdout",
     "output_type": "stream",
     "text": [
      "Median of likes on a post: 12\n",
      "Median of comments on a post: 0\n",
      "Median of interactions on a post: 13\n",
      "Median of hashtaghs on a post: 29\n",
      "Median of mentions on a post: 0\n"
     ]
    }
   ],
   "source": [
    "print(f\"Median of likes on a post: {sts.median(n_likes)}\")\n",
    "print(f\"Median of comments on a post: {sts.median(n_comments)}\")\n",
    "print(f\"Median of interactions on a post: {sts.median(n_interactions)}\")\n",
    "print(f\"Median of hashtaghs on a post: {sts.median(n_hashtags)}\")\n",
    "print(f\"Median of mentions on a post: {sts.median(n_mentions)}\")"
   ]
  },
  {
   "cell_type": "markdown",
   "metadata": {},
   "source": [
    "## A nivel de fechas"
   ]
  },
  {
   "cell_type": "code",
   "execution_count": 13,
   "metadata": {},
   "outputs": [
    {
     "name": "stdout",
     "output_type": "stream",
     "text": [
      "On 2022-12-28 00:00:00: 234\n",
      "On 2022-12-27 00:00:00: 204\n",
      "On 2022-10-09 00:00:00: 102\n",
      "On 2023-03-25 00:00:00: 89\n",
      "On 2022-06-28 00:00:00: 64\n",
      "On 2023-02-02 00:00:00: 62\n",
      "On 2022-12-29 00:00:00: 59\n",
      "On 2022-06-29 00:00:00: 52\n",
      "On 2023-03-08 00:00:00: 47\n",
      "On 2023-01-26 00:00:00: 45\n"
     ]
    }
   ],
   "source": [
    "popular_dates = Counter(dates).most_common(10)\n",
    "for date, count in popular_dates:\n",
    "    print(f'On {date}: {count}')"
   ]
  },
  {
   "cell_type": "code",
   "execution_count": 14,
   "metadata": {},
   "outputs": [
    {
     "name": "stdout",
     "output_type": "stream",
     "text": [
      "Earliest date: 2020-06-16 00:00:00\n",
      "Latest date: 2023-05-30 00:00:00\n"
     ]
    }
   ],
   "source": [
    "print(f'Earliest date: {min(dates)}')\n",
    "print(f'Latest date: {max(dates)}')"
   ]
  },
  {
   "cell_type": "markdown",
   "metadata": {},
   "source": [
    "# A nivel de hashtag"
   ]
  },
  {
   "cell_type": "code",
   "execution_count": 15,
   "metadata": {},
   "outputs": [
    {
     "name": "stdout",
     "output_type": "stream",
     "text": [
      "On noalaborto: 6852\n",
      "On provida: 3344\n",
      "On sialavida: 2020\n",
      "On soyprovida: 2009\n",
      "On providamundial: 1836\n",
      "On follow: 1809\n",
      "On noalabortosialavida: 1647\n",
      "On salvemoslas2vidas: 1592\n",
      "On aborto: 1238\n",
      "On niunbebemenos: 1211\n"
     ]
    }
   ],
   "source": [
    "popular_hashtag = Counter(hashtags).most_common(10)\n",
    "for hashtag, count in popular_hashtag:\n",
    "    print(f'On {hashtag}: {count}')"
   ]
  },
  {
   "cell_type": "code",
   "execution_count": 17,
   "metadata": {},
   "outputs": [
    {
     "name": "stdout",
     "output_type": "stream",
     "text": [
      "On noalaborto: 6852\n",
      "On salvemoslasdosvidas: 959\n",
      "On sialavida: 2020\n",
      "On mareaverde: 27\n",
      "On quesealey: 1\n",
      "On provida: 3344\n"
     ]
    }
   ],
   "source": [
    "target = [\"noalaborto\", \"salvemoslasdosvidas\", \"sialavida\", \"mareaverde\", \"quesealey\", \"provida\"]\n",
    "\n",
    "for t in target:\n",
    "    print(f\"On {t}: {hashtags.count(t)}\")"
   ]
  },
  {
   "cell_type": "markdown",
   "metadata": {},
   "source": [
    "# A nivel de autor\n"
   ]
  },
  {
   "cell_type": "code",
   "execution_count": 16,
   "metadata": {},
   "outputs": [
    {
     "name": "stdout",
     "output_type": "stream",
     "text": [
      "Average number of post by publisher: 6.141361256544503\n",
      "On catolica_espiritualidad: 291\n",
      "On providas.chile: 276\n",
      "On provida.chile: 273\n",
      "On en.contra.del.aborto: 260\n",
      "On providaforever: 260\n",
      "On provida.mundial: 259\n",
      "On familiaprovida: 257\n",
      "On zorroantiaborto: 180\n",
      "On jmpnoticias: 154\n",
      "On providafamiliar: 147\n"
     ]
    }
   ],
   "source": [
    "print(f\"Average number of post by publisher: {n_post/len(set(profiles))}\")\n",
    "\n",
    "popular_publisher = Counter(profiles).most_common(10)\n",
    "for publisher, count in popular_publisher:\n",
    "    print(f'On {publisher}: {count}')"
   ]
  },
  {
   "cell_type": "code",
   "execution_count": 3,
   "metadata": {},
   "outputs": [],
   "source": [
    "posts = []\n",
    "with open(POSTS_PATH, 'r') as input_file:\n",
    "\n",
    "    for line in input_file:\n",
    "        posts.append(json.loads(line))"
   ]
  },
  {
   "cell_type": "code",
   "execution_count": 8,
   "metadata": {},
   "outputs": [
    {
     "name": "stdout",
     "output_type": "stream",
     "text": [
      "(8095, '2023-02-05T01:00:44.000Z', 'Me encantó este videito que te comparto ! Ojalá que ayude a tomar conciencia de lo que se está promoviendo desgraciadamente en varios lugares del mundo… Aquí te dejo este testimonio en primera persona. Cuidemos y protejamos la vida de todos ! Comparte este mensaje! Bendiciones! @padreadolfo\\n.\\n.\\n.\\n.\\n.\\n.\\n.\\n.\\n.\\n.\\n#vida #vidahumana #noalaborto #noalabortosialavida #down #downsyndrome #sindromededown', '64763111967e4199e3264c16', 'https://www.instagram.com/p/CoQvFYJNz-4')\n",
      "(5576, '2023-05-26T13:08:45.000Z', 'De coherencia no se van a morir…\\nTampoco de inteligencia.\\n\\nPero en fin, los leo\\n\\nCompártelo (y etiquétame para irte a comentar por tu lado también 😎) \\n\\n.\\n.\\n.\\n#LobbyPolitico #PorDetras\\n#Lobby\\n#NoAlAborto\\n#ProVida\\n#Trans\\n\\n#ConLosNiñosNo\\n#Balenciaga \\n#Trans\\n#Transgenero\\n#Biologia \\n#LeyTrans \\n#IreneMontero\\n#Igualdad\\n#EnLasCompetenciasFemeninasNo \\n#LGTBQRSTUWXYZ \\n#LGTBQ \\n#Mujeres \\n#Mujer\\n#Amigues \\n#Feministas \\nEl #Patriarcado y la cosa ?\\n#agenda2030 \\n#NiConRojosNiConAzules \\n#FueraElSocialismoDeVenezuela\\n#Venezuela \\n@LauraDeRosaMart \\n#LauraDeRosaMart \\n#LauraDeRosa #LDR', '6475ca3a967e4199e325b7ec', 'https://www.instagram.com/p/CstR3YluaBc')\n",
      "(5536, '2022-12-28T12:50:00.000Z', '28 de diciembre: LOS SANTOS INOCENTES (mártires)\\n\\nLos niños Inocentes murieron por Cristo, fueron arrancados del pecho de su madre para ser asesinados: ahora siguen al Cordero sin mancha, cantando: «Gloria a ti, Señor.» (Antífona del Cántico Evangélico de Laudes)\\n\\nAyer Herodes, que arremetió contra los más pequeños por miedo a perder todo su poder y riqueza a manos de un rey que solo vino a reinar en los corazones. Hoy nuestros legisladores y hermanos de este suelo patrio y de todo el mundo que por miedo a perder su estado de bienestar votan leyes que inventan el derecho a terminar con la vida de los más pequeños e indefensos. Ellos ya gozan en la Gloria de Dios, nosotros roguemos que Él tenga misericordia de aquellas almas que perdieron el camino y han abogado a favor de esta causa y contribuyen directamente a estas muertes.\\n\\n#jesus #niñojesus #babyjesus #meninojesus #gesubambino\\n#santosinocentes\\n#holyinnocents\\n#santosmartires\\n#holymartyrs\\n#martires #martyrs #noalaborto #sialavida #salvemoslas2vidas\\n #iglesiacatolica #dibujo #drawing #ilustracion #illustration #arte #art #ilustraciondigital #digitalillustration #artedigital #digitalart #artereligioso #religiousart', '64776315967e4199e326834c', 'https://www.instagram.com/p/CmtlRsWL7e3')\n",
      "(4270, '2022-12-28T10:09:43.000Z', '\"Madre de los niños que no han nacido, ruega por nosotros\".\\n.\\n Señor Jesús: por mediación de María, Tu Madre, que te dio a luz con amor, y por intercesión de San José, quien contempló extasiado el Misterio de la Encarnación y se ocupó de Ti tras tu nacimiento, te pido por este pequeño no nacido y que se encuentra en peligro de ser abortado. Te pido que des a los padres de este bebé amor y valor para que le permitan vivir la vida que Tú mismo le has preparado. Amén.\\n.\\n Bendito seas, Señor, por este nuevo día. Te alabo por el don de la vida. Al despertar del sueño, te pido especialmente por aquellos que serán trágicamente privados de la vida porque serán abortados. Recíbelos, Señor. Y en tu gran misericordia, guía con tu sabiduría a todas las mujeres embarazas que estén pensando hoy en destruir a los niños que llevan en su seno. Dales la gracia, el valor y la fortaleza para vivir diariamente según tu voluntad. Te lo pido por Cristo, Nuestro Señor, Amén.\\n.\\n#rezarhoy #jovenescatolicos #santosinocentes #noalaborto #sialavida #amordeDios #vivirlafe #oracion #testimonios #reflexiones #amistadconjesucristo #fe #alegria #cristianos #givenfaith', '647763c5967e4199e3268748', 'https://www.instagram.com/p/CmtS7w0tLPi')\n",
      "(3654, '2022-06-28T17:08:38.000Z', 'Protestantes LGBTQ a favor del aborto le quitan su biblia a cristiano, la pisotean y la echan al inodoro.\\n\\n¡Oh Señor, grande es tu misericordia!\\n#SoyProvida #NoAlAborto', '6478dd7e967e4199e32789a6', 'https://www.instagram.com/p/CfW1XnQrfo-')\n"
     ]
    }
   ],
   "source": [
    "sorted_data = sorted(posts, key=lambda x: x['n_comments'] + x['likes'], reverse=True)\n",
    "n = 5  # Number of texts to retrieve\n",
    "highest_texts = [(d['n_comments'] + d['likes'], d[\"date\"], d['caption'], d[\"_id\"], d[\"url\"]) for d in sorted_data[:n]]\n",
    "\n",
    "for i in highest_texts:\n",
    "    print(i)"
   ]
  },
  {
   "cell_type": "code",
   "execution_count": null,
   "metadata": {},
   "outputs": [],
   "source": []
  },
  {
   "cell_type": "code",
   "execution_count": null,
   "metadata": {},
   "outputs": [],
   "source": []
  },
  {
   "cell_type": "code",
   "execution_count": null,
   "metadata": {},
   "outputs": [],
   "source": []
  }
 ],
 "metadata": {
  "kernelspec": {
   "display_name": ".venv",
   "language": "python",
   "name": "python3"
  },
  "language_info": {
   "codemirror_mode": {
    "name": "ipython",
    "version": 3
   },
   "file_extension": ".py",
   "mimetype": "text/x-python",
   "name": "python",
   "nbconvert_exporter": "python",
   "pygments_lexer": "ipython3",
   "version": "3.10.12"
  },
  "orig_nbformat": 4
 },
 "nbformat": 4,
 "nbformat_minor": 2
}
