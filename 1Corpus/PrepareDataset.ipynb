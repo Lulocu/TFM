{
 "cells": [
  {
   "cell_type": "code",
   "execution_count": 1,
   "metadata": {},
   "outputs": [],
   "source": [
    "import json\n",
    "from os import listdir\n"
   ]
  },
  {
   "cell_type": "code",
   "execution_count": 2,
   "metadata": {},
   "outputs": [],
   "source": [
    "dir_imgs = set(listdir('DatasetFinal/Images/'))\n",
    "POST_PATH = 'DatasetCompleto/Instagram.Post.json'\n",
    "COMMENTS_PATH = 'DatasetCompleto/Instagram.Comment.json'\n",
    "FINAL_POST = 'DatasetFinal/Posts.json'\n",
    "FINAL_COMMENTS = 'DatasetFinal/Comments.json'"
   ]
  },
  {
   "cell_type": "markdown",
   "metadata": {},
   "source": [
    "# Guardar posts de los que tengo imagen"
   ]
  },
  {
   "cell_type": "code",
   "execution_count": 3,
   "metadata": {},
   "outputs": [],
   "source": [
    "with open(POST_PATH, 'r') as input_file, open(FINAL_POST, 'w') as output_file:\n",
    "    inp = json.load(input_file)\n",
    "    for post in inp:\n",
    "        if post[\"_id\"] in dir_imgs:\n",
    "            comments = []\n",
    "            for c in post[\"comments\"]:\n",
    "                comments.append((c[\"high\"] << 32) +c[\"low\"])\n",
    "            post[\"comments\"]=comments\n",
    "            post[\"id\"] = post[\"id\"][\"$numberLong\"]\n",
    "            output_file.write(json.dumps(post))\n",
    "            output_file.write(\"\\n\")"
   ]
  },
  {
   "cell_type": "markdown",
   "metadata": {},
   "source": [
    "# Comments to a post"
   ]
  },
  {
   "cell_type": "code",
   "execution_count": 4,
   "metadata": {},
   "outputs": [],
   "source": [
    "ids = set()\n",
    "with open(FINAL_POST, 'r') as input_file:\n",
    "    for line in input_file:\n",
    "        post = json.loads(line)\n",
    "        post[\"id\"] = post[\"id\"]\n",
    "        ids.add(post[\"id\"])"
   ]
  },
  {
   "cell_type": "code",
   "execution_count": 5,
   "metadata": {},
   "outputs": [],
   "source": [
    "with open(COMMENTS_PATH, 'r') as input_file, open(FINAL_COMMENTS, 'w') as output_file:\n",
    "\n",
    "    inp = json.load(input_file)\n",
    "    for comment in inp:\n",
    "        comment[\"parent_id\"] = comment[\"parent_id\"][\"$numberLong\"]\n",
    "        comment[\"id\"] = comment[\"id\"][\"$numberLong\"]\n",
    "        if comment[\"parent_id\"] in ids:\n",
    "            comment[\"parent\"] = \"post\"\n",
    "            output_file.write(json.dumps(comment))\n",
    "            output_file.write(\"\\n\")\n",
    "        "
   ]
  },
  {
   "cell_type": "markdown",
   "metadata": {},
   "source": [
    "# Comments to a comment"
   ]
  },
  {
   "cell_type": "code",
   "execution_count": 6,
   "metadata": {},
   "outputs": [],
   "source": [
    "ids = set()\n",
    "with open(FINAL_COMMENTS, 'r') as input_file:\n",
    "    for line in input_file:\n",
    "        post = json.loads(line)\n",
    "        #post[\"id\"] = post[\"id\"]['$numberLong']\n",
    "        ids.add(post[\"id\"])"
   ]
  },
  {
   "cell_type": "code",
   "execution_count": 7,
   "metadata": {},
   "outputs": [],
   "source": [
    "with open(COMMENTS_PATH, 'r') as input_file, open(FINAL_COMMENTS, 'a') as output_file:\n",
    "\n",
    "    inp = json.load(input_file)\n",
    "    for comment in inp:\n",
    "        comment[\"parent_id\"] = comment[\"parent_id\"][\"$numberLong\"]\n",
    "        comment[\"id\"] = comment[\"id\"][\"$numberLong\"]\n",
    "        if comment[\"parent_id\"] in ids:\n",
    "\n",
    "            comment[\"parent\"] = \"comment\"\n",
    "            output_file.write(json.dumps(comment))\n",
    "            output_file.write(\"\\n\")\n",
    "        "
   ]
  }
 ],
 "metadata": {
  "kernelspec": {
   "display_name": ".venv",
   "language": "python",
   "name": "python3"
  },
  "language_info": {
   "codemirror_mode": {
    "name": "ipython",
    "version": 3
   },
   "file_extension": ".py",
   "mimetype": "text/x-python",
   "name": "python",
   "nbconvert_exporter": "python",
   "pygments_lexer": "ipython3",
   "version": "3.10.12"
  },
  "orig_nbformat": 4
 },
 "nbformat": 4,
 "nbformat_minor": 2
}
