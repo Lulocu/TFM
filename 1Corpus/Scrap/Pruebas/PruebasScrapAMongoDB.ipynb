{
 "cells": [
  {
   "cell_type": "code",
   "execution_count": 1,
   "metadata": {},
   "outputs": [
    {
     "name": "stdout",
     "output_type": "stream",
     "text": [
      "Loaded session from /home/luis/session-luisdevtest.txt.\n"
     ]
    }
   ],
   "source": [
    "from datetime import datetime\n",
    "from itertools import repeat\n",
    "from pymongo import MongoClient\n",
    "import gridfs\n",
    "import base64\n",
    "\n",
    "import instaloader\n",
    "L = instaloader.Instaloader()\n",
    "\n",
    "# Optionally, login or load session\n",
    "#L.login(USER, PASSWORD)        # (login)\n",
    "#L.interactive_login(USER)      # (ask password on terminal)\n",
    "L.load_session_from_file('luislc99','/home/luis/session-luisdevtest.txt')"
   ]
  },
  {
   "cell_type": "code",
   "execution_count": null,
   "metadata": {},
   "outputs": [],
   "source": [
    "def zip_longest(list_of_iters, fillvalue=None):\n",
    "    # zip_longest('ABCD', 'xy', fillvalue='-') --> Ax By C- D-\n",
    "    iterators = [iter(it) for it in list_of_iters]\n",
    "    num_active = len(iterators)\n",
    "    if not num_active:\n",
    "        return\n",
    "    while True:\n",
    "        values = []\n",
    "        for i, it in enumerate(iterators):\n",
    "            try:\n",
    "                value = next(it)\n",
    "            except StopIteration:\n",
    "                num_active -= 1\n",
    "                if not num_active:\n",
    "                    return\n",
    "                iterators[i] = repeat(fillvalue)\n",
    "                value = fillvalue\n",
    "            values.append(value)\n",
    "        yield tuple(values)"
   ]
  },
  {
   "cell_type": "code",
   "execution_count": null,
   "metadata": {},
   "outputs": [],
   "source": [
    "def procLocation(post):\n",
    "    try:\n",
    "        location = post.location.name\n",
    "    except:\n",
    "        location = 'None'\n",
    "    return location"
   ]
  },
  {
   "cell_type": "code",
   "execution_count": null,
   "metadata": {},
   "outputs": [],
   "source": [
    "def procSponsor(post):\n",
    "    if len(post.sponsor_users)>0:\n",
    "        sponsor_users= [user.username for user in post.sponsor_users]\n",
    "    else:\n",
    "        sponsor_users= post.sponsor_users\n",
    "    return sponsor_users"
   ]
  },
  {
   "cell_type": "code",
   "execution_count": null,
   "metadata": {},
   "outputs": [],
   "source": [
    "def procesarComentarios(post):\n",
    "    coms = []\n",
    "    comsid = []\n",
    "    try:\n",
    "        for comment in post.get_comments():\n",
    "\n",
    "            post_data = {\n",
    "                'id': comment.id,\n",
    "                'parent_id': post.mediaid,\n",
    "                'profile': comment.owner.username,\n",
    "                'date': comment.created_at_utc.isoformat(),\n",
    "                'text':comment.text,\n",
    "                'comments': procesarComentarios(comment),\n",
    "            }\n",
    "            print('get_comm')\n",
    "            coms.append(post_data)\n",
    "            comsid.append(comment.id)\n",
    "    except:\n",
    "            for comment in post.answer:\n",
    "\n",
    "                post_data = {\n",
    "                    'id': comment.id,\n",
    "                    'parent_id': post.mediaid,\n",
    "                    'profile': comment.owner.username,\n",
    "                    'date': comment.created_at_utc.isoformat(),\n",
    "                    'text':comment.text,\n",
    "                    'comments': procesarComentarios(comment),\n",
    "                }\n",
    "                print('get_comm')\n",
    "                coms.append(post_data)\n",
    "                comsid.append(comment.id)\n",
    "    if len(com) > 0:\n",
    "        collection_comments.insert_many(coms)\n",
    "    \n",
    "    return comsid\n"
   ]
  },
  {
   "cell_type": "code",
   "execution_count": null,
   "metadata": {},
   "outputs": [],
   "source": [
    "def procesarPost(post):\n",
    "\n",
    "    data_to_store = {\n",
    "        'id': post.mediaid,\n",
    "        'title': post.title,\n",
    "        'profile': post.profile,\n",
    "        'date': post.date,\n",
    "        'caption': post.caption,\n",
    "        'tagged_users': post.tagged_users,\n",
    "        'accessibility_caption': post.accessibility_caption,\n",
    "        'n_comments': post.comments,\n",
    "        'caption_hashtags': post.caption_hashtags,\n",
    "        'caption_mentions': post.caption_mentions,\n",
    "        'likes': post.likes,\n",
    "        'url': f'https://www.instagram.com/p/{post.shortcode}',\n",
    "        'tagged_users': post.tagged_users,\n",
    "        'location': procLocation(post),\n",
    "        'sponsor_users': procSponsor(post),\n",
    "        'comments': procesarComentarios(post),\n",
    "    }\n",
    "\n",
    "    return data_to_store \n",
    "    \n",
    "    "
   ]
  },
  {
   "cell_type": "code",
   "execution_count": null,
   "metadata": {},
   "outputs": [],
   "source": [
    " # (load session created w/\n",
    "                               \n",
    "def scrap(hashtags):\n",
    "\n",
    "    hashtags_iter = [instaloader.Hashtag.from_name(L.context, hashtag).get_posts_resumable() for hashtag in hashtags]\n",
    "\n",
    "    i = 0\n",
    "    for retrieved in hashtags_iter:\n",
    "        for post in retrieved:\n",
    "            procesado = procesarPost(post)\n",
    "            collection_post.insert_many([procesado])\n",
    "            i+=1\n",
    "            print(i)\n",
    "            if i >= 10:\n",
    "                print('Finished')\n",
    "                return None"
   ]
  },
  {
   "cell_type": "markdown",
   "metadata": {},
   "source": [
    "Conexion a MongoDB"
   ]
  },
  {
   "cell_type": "code",
   "execution_count": 2,
   "metadata": {},
   "outputs": [],
   "source": [
    "def get_database():\n",
    " \n",
    "   # Provide the mongodb atlas url to connect python to mongodb using pymongo\n",
    "   CONNECTION_STRING = \"mongodb://127.0.0.1:27017/?directConnection=true&serverSelectionTimeoutMS=2000&appName=mongosh+1.6.1\"\n",
    "   client = MongoClient(CONNECTION_STRING)\n",
    " \n",
    "   return client['Instagram']\n",
    "dbname = get_database()\n",
    "collection_post = dbname[\"Post\"]\n",
    "collection_comments = dbname[\"Comments\"]"
   ]
  },
  {
   "cell_type": "code",
   "execution_count": null,
   "metadata": {},
   "outputs": [],
   "source": [
    "hashtags = ['noalaborto','salvemoslasdosvidas','sialavida','mareaverde','quesealey','provida']"
   ]
  },
  {
   "cell_type": "code",
   "execution_count": null,
   "metadata": {},
   "outputs": [],
   "source": [
    "scrap(hashtags)"
   ]
  },
  {
   "cell_type": "code",
   "execution_count": 12,
   "metadata": {},
   "outputs": [
    {
     "name": "stdout",
     "output_type": "stream",
     "text": [
      "[ObjectId('638f33982b3a5c390e982ec0')]\n"
     ]
    }
   ],
   "source": [
    "b = None\n",
    "for a in collection_post.find():\n",
    "    #print(a['images'])\n",
    "    b = a['images']\n",
    "print(b)"
   ]
  },
  {
   "cell_type": "code",
   "execution_count": 13,
   "metadata": {},
   "outputs": [],
   "source": [
    "fs = gridfs.GridFS(dbname,collection='Images')"
   ]
  },
  {
   "cell_type": "code",
   "execution_count": 22,
   "metadata": {},
   "outputs": [
    {
     "data": {
      "text/plain": [
       "1"
      ]
     },
     "execution_count": 22,
     "metadata": {},
     "output_type": "execute_result"
    }
   ],
   "source": [
    "3%2"
   ]
  },
  {
   "cell_type": "code",
   "execution_count": 20,
   "metadata": {},
   "outputs": [
    {
     "ename": "IndexError",
     "evalue": "no such item for Cursor instance",
     "output_type": "error",
     "traceback": [
      "\u001b[0;31m---------------------------------------------------------------------------\u001b[0m",
      "\u001b[0;31mIndexError\u001b[0m                                Traceback (most recent call last)",
      "Cell \u001b[0;32mIn[20], line 1\u001b[0m\n\u001b[0;32m----> 1\u001b[0m c \u001b[39m=\u001b[39m fs\u001b[39m.\u001b[39mfind({\u001b[39m\"\u001b[39m\u001b[39mid\u001b[39m\u001b[39m\"\u001b[39m:a[\u001b[39m0\u001b[39m]})\n\u001b[1;32m      2\u001b[0m \u001b[39mprint\u001b[39m(\u001b[39m'\u001b[39m\u001b[39ma\u001b[39m\u001b[39m'\u001b[39m)\n",
      "File \u001b[0;32m~/Documentos/TFM/Creacion del corpus/.venv/lib/python3.10/site-packages/pymongo/cursor.py:760\u001b[0m, in \u001b[0;36mCursor.__getitem__\u001b[0;34m(self, index)\u001b[0m\n\u001b[1;32m    758\u001b[0m     \u001b[39mfor\u001b[39;00m doc \u001b[39min\u001b[39;00m clone:\n\u001b[1;32m    759\u001b[0m         \u001b[39mreturn\u001b[39;00m doc\n\u001b[0;32m--> 760\u001b[0m     \u001b[39mraise\u001b[39;00m \u001b[39mIndexError\u001b[39;00m(\u001b[39m\"\u001b[39m\u001b[39mno such item for Cursor instance\u001b[39m\u001b[39m\"\u001b[39m)\n\u001b[1;32m    761\u001b[0m \u001b[39mraise\u001b[39;00m \u001b[39mTypeError\u001b[39;00m(\u001b[39m\"\u001b[39m\u001b[39mindex \u001b[39m\u001b[39m%r\u001b[39;00m\u001b[39m cannot be applied to Cursor instances\u001b[39m\u001b[39m\"\u001b[39m \u001b[39m%\u001b[39m index)\n",
      "\u001b[0;31mIndexError\u001b[0m: no such item for Cursor instance"
     ]
    }
   ],
   "source": [
    "c = fs.find({\"id\":a[0]})\n",
    "print('a')"
   ]
  },
  {
   "cell_type": "code",
   "execution_count": 14,
   "metadata": {},
   "outputs": [],
   "source": [
    "for i in fs.find({\"id\":b[0]}):\n",
    "    print(i)"
   ]
  },
  {
   "cell_type": "code",
   "execution_count": null,
   "metadata": {},
   "outputs": [],
   "source": []
  }
 ],
 "metadata": {
  "kernelspec": {
   "display_name": "Python 3.10.6 ('.venv': venv)",
   "language": "python",
   "name": "python3"
  },
  "language_info": {
   "codemirror_mode": {
    "name": "ipython",
    "version": 3
   },
   "file_extension": ".py",
   "mimetype": "text/x-python",
   "name": "python",
   "nbconvert_exporter": "python",
   "pygments_lexer": "ipython3",
   "version": "3.10.6 (main, Nov  2 2022, 18:53:38) [GCC 11.3.0]"
  },
  "orig_nbformat": 4,
  "vscode": {
   "interpreter": {
    "hash": "7b4a4479697b0d1c768c7fc22c2d8d7ae67e24cbeb4e1c125a4fc9bc98279977"
   }
  }
 },
 "nbformat": 4,
 "nbformat_minor": 2
}
