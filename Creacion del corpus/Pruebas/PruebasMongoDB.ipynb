{
 "cells": [
  {
   "cell_type": "code",
   "execution_count": 2,
   "metadata": {},
   "outputs": [],
   "source": [
    "from pymongo import MongoClient\n"
   ]
  },
  {
   "cell_type": "code",
   "execution_count": 4,
   "metadata": {},
   "outputs": [],
   "source": [
    "def get_database():\n",
    " \n",
    "   # Provide the mongodb atlas url to connect python to mongodb using pymongo\n",
    "   CONNECTION_STRING = \"mongodb://127.0.0.1:27017/?directConnection=true&serverSelectionTimeoutMS=2000&appName=mongosh+1.6.1\"\n",
    "   client = MongoClient(CONNECTION_STRING)\n",
    " \n",
    "   return client['Instagram']"
   ]
  },
  {
   "cell_type": "code",
   "execution_count": 6,
   "metadata": {},
   "outputs": [],
   "source": [
    "dbname = get_database()\n",
    "collection_name = dbname[\"Post\"]\n"
   ]
  },
  {
   "cell_type": "code",
   "execution_count": 7,
   "metadata": {},
   "outputs": [
    {
     "data": {
      "text/plain": [
       "<pymongo.results.InsertManyResult at 0x7f134a58ad70>"
      ]
     },
     "execution_count": 7,
     "metadata": {},
     "output_type": "execute_result"
    }
   ],
   "source": [
    "item_1 = {\n",
    "  \"_id\" : \"U1IT00001\",\n",
    "  \"item_name\" : \"Blender\",\n",
    "  \"max_discount\" : \"10%\",\n",
    "  \"batch_number\" : \"RR450020FRG\",\n",
    "  \"price\" : 340,\n",
    "  \"category\" : \"kitchen appliance\"\n",
    "}\n",
    "\n",
    "item_2 = {\n",
    "  \"_id\" : \"U1IT00002\",\n",
    "  \"item_name\" : \"Egg\",\n",
    "  \"category\" : \"food\",\n",
    "  \"quantity\" : 12,\n",
    "  \"price\" : 36,\n",
    "  \"item_description\" : \"brown country eggs\"\n",
    "}\n",
    "collection_name.insert_many([item_1,item_2])"
   ]
  }
 ],
 "metadata": {
  "kernelspec": {
   "display_name": "Python 3.10.6 ('.venv': venv)",
   "language": "python",
   "name": "python3"
  },
  "language_info": {
   "codemirror_mode": {
    "name": "ipython",
    "version": 3
   },
   "file_extension": ".py",
   "mimetype": "text/x-python",
   "name": "python",
   "nbconvert_exporter": "python",
   "pygments_lexer": "ipython3",
   "version": "3.10.6"
  },
  "orig_nbformat": 4,
  "vscode": {
   "interpreter": {
    "hash": "7b4a4479697b0d1c768c7fc22c2d8d7ae67e24cbeb4e1c125a4fc9bc98279977"
   }
  }
 },
 "nbformat": 4,
 "nbformat_minor": 2
}
