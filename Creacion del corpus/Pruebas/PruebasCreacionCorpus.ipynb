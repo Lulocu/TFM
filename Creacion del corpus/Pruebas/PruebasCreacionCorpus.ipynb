{
 "cells": [
  {
   "cell_type": "code",
   "execution_count": 15,
   "metadata": {},
   "outputs": [
    {
     "name": "stdout",
     "output_type": "stream",
     "text": [
      "Loaded session from /home/luis/session-luislc99.txt.\n"
     ]
    }
   ],
   "source": [
    "from datetime import datetime\n",
    "from itertools import dropwhile, takewhile\n",
    "\n",
    "import instaloader\n",
    "L = instaloader.Instaloader()\n",
    "\n",
    "# Optionally, login or load session\n",
    "#L.login(USER, PASSWORD)        # (login)\n",
    "#L.interactive_login(USER)      # (ask password on terminal)\n",
    "L.load_session_from_file('luislc99','/home/luis/session-luislc99.txt')"
   ]
  },
  {
   "cell_type": "code",
   "execution_count": 16,
   "metadata": {},
   "outputs": [],
   "source": [
    "def procesarPost(post,hashtag,nPost):\n",
    "    #L.download_post(post, f\"#{hashtag}/post{nPost}\")\n",
    "    #title\n",
    "    #profile\n",
    "    #date\n",
    "    #caption\n",
    "    #tagged_users\n",
    "    #accessibility_caption\n",
    "    #comments\n",
    "    #caption_hashtags\n",
    "    #caption_mentions\n",
    "    #likes\n",
    "    #sponsor_uers\n",
    "    #tagged_users\n",
    "    pass\n",
    "    \n",
    "    \n",
    "    "
   ]
  },
  {
   "cell_type": "code",
   "execution_count": 17,
   "metadata": {},
   "outputs": [],
   "source": [
    " # (load session created w/\n",
    "                               \n",
    "def scrap(hashtag):\n",
    "    posts = instaloader.Hashtag.from_name(L.context, hashtag).get_posts_resumable()\n",
    "    #posts = instaloader.Profile.from_username(L.context, \"luislc99\").get_posts()\n",
    "\n",
    "\n",
    "    SINCE = datetime.fromisoformat('2020-06-24')\n",
    "    UNTIL = datetime.fromisoformat('2022-07-24')\n",
    "    #a = list(dropwhile(lambda p: p.date > UNTIL, posts))\n",
    "    #for element in a:\n",
    "    #    print(element.date)\n",
    "\n",
    "    #a = list(takewhile(lambda p: p.date > SINCE, posts))\n",
    "    #for element in a:\n",
    "    #    print(element.date)\n",
    "    i = 0\n",
    "    for post in takewhile(lambda p: p.date > SINCE, dropwhile(lambda p: p.date > UNTIL, posts)):\n",
    "        procesarPost(post,'Prueba',i)\n",
    "        print(hashtag)\n",
    "        i+=1\n",
    "        if i >= 10:\n",
    "            print(hashtag)\n",
    "            return None"
   ]
  },
  {
   "cell_type": "code",
   "execution_count": 18,
   "metadata": {},
   "outputs": [],
   "source": [
    "hashtags = ['noalaborto','salvemoslasdosvidas','sialavida','mareaverde','quesealey','provida']\n",
    "\n",
    "for hash in hashtags:\n",
    "    try:\n",
    "        pass#scrap(hash)\n",
    "    except Exception as e:\n",
    "        print('Hay problemas')"
   ]
  },
  {
   "cell_type": "code",
   "execution_count": 19,
   "metadata": {},
   "outputs": [],
   "source": [
    "scrap('noalaborto')"
   ]
  },
  {
   "cell_type": "code",
   "execution_count": 20,
   "metadata": {},
   "outputs": [
    {
     "name": "stdout",
     "output_type": "stream",
     "text": [
      "salvemoslasdosvidas\n",
      "salvemoslasdosvidas\n",
      "salvemoslasdosvidas\n",
      "salvemoslasdosvidas\n",
      "salvemoslasdosvidas\n",
      "salvemoslasdosvidas\n",
      "salvemoslasdosvidas\n",
      "salvemoslasdosvidas\n",
      "salvemoslasdosvidas\n",
      "salvemoslasdosvidas\n",
      "salvemoslasdosvidas\n"
     ]
    }
   ],
   "source": [
    "scrap('salvemoslasdosvidas')"
   ]
  },
  {
   "cell_type": "code",
   "execution_count": 21,
   "metadata": {},
   "outputs": [],
   "source": [
    "scrap('mareaverde')"
   ]
  },
  {
   "cell_type": "code",
   "execution_count": 22,
   "metadata": {},
   "outputs": [],
   "source": [
    "scrap('quesealey')"
   ]
  },
  {
   "cell_type": "code",
   "execution_count": 23,
   "metadata": {},
   "outputs": [],
   "source": [
    "scrap('noalaborto')"
   ]
  },
  {
   "cell_type": "code",
   "execution_count": 24,
   "metadata": {},
   "outputs": [],
   "source": [
    "scrap('provida')"
   ]
  }
 ],
 "metadata": {
  "kernelspec": {
   "display_name": "Python 3.10.6 ('.venv': venv)",
   "language": "python",
   "name": "python3"
  },
  "language_info": {
   "codemirror_mode": {
    "name": "ipython",
    "version": 3
   },
   "file_extension": ".py",
   "mimetype": "text/x-python",
   "name": "python",
   "nbconvert_exporter": "python",
   "pygments_lexer": "ipython3",
   "version": "3.10.6"
  },
  "orig_nbformat": 4,
  "vscode": {
   "interpreter": {
    "hash": "7b4a4479697b0d1c768c7fc22c2d8d7ae67e24cbeb4e1c125a4fc9bc98279977"
   }
  }
 },
 "nbformat": 4,
 "nbformat_minor": 2
}
